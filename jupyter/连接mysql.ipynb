{
 "cells": [
  {
   "cell_type": "code",
   "execution_count": null,
   "metadata": {
    "collapsed": true
   },
   "outputs": [],
   "source": [
    "import matplotlib.pyplot as plt\n",
    "import pandas as pd\n",
    "import pymysql\n",
    "\n",
    "plt.rcParams['font.family'] = 'simhei'\n",
    "plt.rcParams['axes.unicode_minus'] = False\n",
    "\n",
    "# 连接数据库\n",
    "conn = pymysql.connect(\n",
    "    host='localhost',\n",
    "    user='root',\n",
    "    passwd='mysql',\n",
    "    db='test',\n",
    "    port=3306,\n",
    "    charset='utf8'\n",
    ")\n",
    "df = pd.read_sql('select * from test', conn)\n",
    "data = df.values\n",
    "subjects = list(df)  # 表头 ['语文', '数学', '英语', '物理', '化学']\n",
    "v1 = data[0]  # 第一行 [77, 92, 83, 74, 90]\n",
    "v2 = data[1]  # [63, 88, 99, 69, 66]\n",
    "\n",
    "\n",
    "def line():\n",
    "    plt.title('柱状图')\n",
    "    plt.plot(subjects, v1, label='v1')\n",
    "    plt.plot(subjects, v2, label='v2')\n",
    "    plt.xlabel('Subjects')\n",
    "    plt.xlabel('Score')\n",
    "    plt.ylim(0, 100)\n",
    "    plt.legend()\n",
    "    plt.show()\n",
    "\n",
    "\n",
    "if __name__ == '__main__':\n",
    "    # subjects = ['语文', '数学', '英语', '物理', '化学']\n",
    "    # v1 = [77, 92, 83, 74, 90]\n",
    "    # v2 = [63, 88, 99, 69, 66]\n",
    "    line()\n"
   ]
  }
 ],
 "metadata": {
  "kernelspec": {
   "display_name": "Python 3",
   "language": "python",
   "name": "python3"
  },
  "language_info": {
   "codemirror_mode": {
    "name": "ipython",
    "version": 2
   },
   "file_extension": ".py",
   "mimetype": "text/x-python",
   "name": "python",
   "nbconvert_exporter": "python",
   "pygments_lexer": "ipython2",
   "version": "2.7.6"
  }
 },
 "nbformat": 4,
 "nbformat_minor": 0
}