{
 "cells": [
  {
   "cell_type": "markdown",
   "metadata": {},
   "source": [
    "# 图标合集"
   ]
  },
  {
   "cell_type": "code",
   "execution_count": null,
   "metadata": {},
   "outputs": [],
   "source": [
    "import matplotlib.pyplot as plt\n",
    "import numpy as np\n",
    "\n",
    "plt.rcParams['font.family'] = 'simhei'\n",
    "plt.rcParams['axes.unicode_minus'] = False\n",
    "\n",
    "font_title = {\n",
    "    'size': 16,\n",
    "}\n",
    "\n",
    "subject = ['语文', '数学', '英语', '物理', '化学']\n",
    "v1 = [77, 92, 83, 74, 90]\n",
    "v2 = [63, 88, 99, 69, 66]"
   ]
  },
  {
   "cell_type": "markdown",
   "metadata": {},
   "source": [
    "## 折线图"
   ]
  },
  {
   "cell_type": "code",
   "execution_count": null,
   "metadata": {},
   "outputs": [],
   "source": [
    "plt.title('多线折线图', fontdict=font_title)\n",
    "plt.plot(subject, v1, 'o--', label='v1')\n",
    "plt.plot(subject, v2, 'd-', label='v2')\n",
    "# plt.grid(axis='y', alpha=0.4)\n",
    "plt.grid(axis='both', alpha=0.4)\n",
    "# plt.grid(ls='-.', c='r', alpha=0.5)\n",
    "plt.legend()\n",
    "plt.show()"
   ]
  },
  {
   "cell_type": "code",
   "execution_count": null,
   "metadata": {},
   "outputs": [],
   "source": [
    "x = ['a', 'b', 'c', 'd', 'e', 'f']\n",
    "y1 = [30481, 12583, 51, 9, 4442, 2]\n",
    "y2 = [0.365, 0.016, 0.039, 0, 0.065, 0]\n",
    "\n",
    "plt.title('双Y轴折线图', fontdict=font_title)\n",
    "plt.plot(x, y1, 'r', marker='d', label='销售人次')\n",
    "plt.xlabel('种类')\n",
    "plt.ylabel('销量')\n",
    "plt.legend()\n",
    "\n",
    "ax2 = plt.twinx()\n",
    "ax2.plot(x, y2, marker='D', label='本月销售量')\n",
    "ax2.set_ylabel('利率')\n",
    "ax2.legend()\n",
    "plt.show()"
   ]
  },
  {
   "cell_type": "code",
   "execution_count": null,
   "metadata": {},
   "outputs": [],
   "source": [
    "x = np.arange(1, 6, 1)\n",
    "y = [0, 4, 3, 5, 6]\n",
    "y1 = [1, 3, 4, 2, 7]\n",
    "y2 = [3, 4, 1, 6, 5]\n",
    "\n",
    "labels = [\"y1\", \"y1\", \"y2\"]\n",
    "\n",
    "plt.title('面积图', fontdict=font_title)\n",
    "plt.stackplot(x, y, y1, y2, labels=labels)\n",
    "plt.legend(loc=\"upper left\")\n",
    "plt.show()"
   ]
  },
  {
   "cell_type": "code",
   "execution_count": null,
   "metadata": {},
   "outputs": [],
   "source": [
    "# 函数grid()——绘制刻度线的网格线\n",
    "\n",
    "x = np.linspace(0.05, 10, 1000)\n",
    "y = np.sin(x)\n",
    "\n",
    "plt.title('grid()网格线')\n",
    "plt.plot(x, y, c=\"c\", label=\"plot figure\")\n",
    "plt.legend()\n",
    "plt.grid(ls='-.', c='r', alpha=0.5)\n",
    "plt.show()"
   ]
  },
  {
   "cell_type": "code",
   "execution_count": null,
   "metadata": {},
   "outputs": [],
   "source": [
    "# axvline()函数绘制平行于x/y轴的水平参考线\n",
    "\n",
    "x = np.linspace(0.05, 10, 1000)\n",
    "y = np.sin(x)\n",
    "\n",
    "plt.plot(x, y, ls=\"-.\", lw=2, c=\"c\", label=\"plot figure\")\n",
    "plt.legend()\n",
    "plt.axhline(y=0.0, c='r', ls='--', lw=2)\n",
    "plt.axvline(x=4, c='r', ls='--', lw=2)\n",
    "\n",
    "plt.show()"
   ]
  },
  {
   "cell_type": "code",
   "execution_count": null,
   "metadata": {},
   "outputs": [],
   "source": [
    "# axvspan()函数绘制垂直于x轴的参考区域\n",
    "\n",
    "x = np.linspace(0.05, 10, 1000)\n",
    "y = np.sin(x)\n",
    "\n",
    "plt.plot(x, y, ls=\"-.\", lw=2, c=\"b\", label=\"plot figure\")\n",
    "plt.legend()\n",
    "plt.axhspan(ymin=0.0, ymax=0.5, facecolor='pink', alpha=0.3)\n",
    "plt.axvspan(xmin=4.0, xmax=6.0, facecolor='c', alpha=0.3)\n",
    "\n",
    "plt.show()"
   ]
  },
  {
   "cell_type": "code",
   "execution_count": null,
   "metadata": {},
   "outputs": [],
   "source": [
    "# annotate()函数添加图形内容细节的指向型注释文本\n",
    "\n",
    "x = np.linspace(0.05, 10, 1000)\n",
    "y = np.sin(x)\n",
    "\n",
    "plt.plot(x, y, ls=\"-.\", lw=2, c=\"c\", label=\"plot figure\")\n",
    "plt.legend()\n",
    "plt.annotate(\"maximum\",\n",
    "             xy=(np.pi / 2, 1.0),\n",
    "             xytext=((np.pi / 2) + 1.0, .8),\n",
    "             weight=\"bold\",\n",
    "             color=\"b\",\n",
    "             arrowprops=dict(arrowstyle=\"->\", connectionstyle=\"arc3\", color=\"b\"))\n",
    "\n",
    "plt.show()"
   ]
  },
  {
   "cell_type": "code",
   "execution_count": null,
   "metadata": {},
   "outputs": [],
   "source": [
    "# 函数text()——添加图形内容细节的无指向型注释文本\n",
    "\n",
    "x = np.linspace(0.05, 10, 1000)\n",
    "y = np.sin(x)\n",
    "\n",
    "plt.plot(x, y, ls=\"-.\", lw=2, c=\"c\", label=\"plot figure\")\n",
    "plt.legend()\n",
    "plt.text(3.1, 0.09, \"y=sin(x)\", color=\"b\")\n",
    "plt.show()"
   ]
  },
  {
   "cell_type": "markdown",
   "metadata": {},
   "source": [
    "## 柱状图"
   ]
  },
  {
   "cell_type": "code",
   "execution_count": null,
   "metadata": {},
   "outputs": [],
   "source": [
    "plt.title('柱状图', fontdict=font_title)\n",
    "plt.bar(subject, v1, width=0.6, color='c', hatch=\"/\", label='v1')\n",
    "for x, y in enumerate(v1):\n",
    "    plt.text(x, y, y, ha='center', va='bottom')\n",
    "plt.grid(axis='y', alpha=0.4)\n",
    "plt.legend(bbox_to_anchor=(0.7, 0, 0.5, 1))\n",
    "plt.ylim(0, 100)\n",
    "plt.show()"
   ]
  },
  {
   "cell_type": "code",
   "execution_count": null,
   "metadata": {},
   "outputs": [],
   "source": [
    "std_err = [7, 4, 6, 8, 5]  # 误差棒长度\n",
    "err_style = dict(elinewidth=2, ecolor=\"black\", capsize=3)  # 误差棒样式\n",
    "\n",
    "plt.title(\"含误差棒的柱状图\", fontdict=font_title)\n",
    "plt.bar(subject, v1, width=0.6, yerr=std_err, error_kw=err_style, label=\"v1\")\n",
    "plt.xlabel(\"科目\")\n",
    "plt.ylabel(\"分数\")\n",
    "plt.grid(axis=\"y\", alpha=0.4)\n",
    "plt.legend(bbox_to_anchor=(0.7, 0, 0.5, 1))\n",
    "plt.show()"
   ]
  },
  {
   "cell_type": "code",
   "execution_count": null,
   "metadata": {},
   "outputs": [],
   "source": [
    "plt.title('并列柱状图', fontdict=font_title)\n",
    "plt.bar(np.arange(len(subject)), v1, width=0.4, label='v1')\n",
    "for x, y in enumerate(v1):\n",
    "    plt.text(x, y, y, ha='center', va='bottom')\n",
    "plt.bar(np.arange(len(subject)) + 0.4, v2, width=0.4, label='v2')\n",
    "for x, y in enumerate(v2):\n",
    "    plt.text(x + 0.3, y, y, ha='center', va='bottom')\n",
    "plt.xticks(np.arange(len(subject)) + 0.4 / 2, subject)\n",
    "plt.grid(axis='y', alpha=0.4)\n",
    "plt.legend(bbox_to_anchor=(0.7, 0, 0.5, 1))\n",
    "plt.show()"
   ]
  },
  {
   "cell_type": "code",
   "execution_count": null,
   "metadata": {},
   "outputs": [],
   "source": [
    "plt.title('堆积柱状图', fontdict=font_title)\n",
    "plt.bar(subject, v1, width=0.5, label='v1')\n",
    "plt.bar(np.arange(len(subject)), v2, width=0.5, bottom=v1, label='v2')\n",
    "plt.grid(axis='y', alpha=0.4)\n",
    "plt.legend(bbox_to_anchor=(0.7, 0, 0.5, 1))\n",
    "plt.ylim(0,200)\n",
    "plt.show()"
   ]
  },
  {
   "cell_type": "code",
   "execution_count": null,
   "metadata": {},
   "outputs": [],
   "source": [
    "plt.title('水平条形图', fontdict=font_title)\n",
    "plt.barh(subject, v1, height=0.5,label='v1')\n",
    "for x, y in enumerate(v1):\n",
    "    plt.text(y, x, y)\n",
    "plt.legend()\n",
    "plt.xlim(0, 100)\n",
    "plt.grid(axis='x', alpha=0.4)\n",
    "plt.show()"
   ]
  },
  {
   "cell_type": "code",
   "execution_count": null,
   "metadata": {},
   "outputs": [],
   "source": [
    "plt.title('水平并列条形图', fontdict=font_title)\n",
    "plt.barh(subject, v1, height=0.4, label='v1')\n",
    "for x, y in enumerate(v1):\n",
    "    plt.text(y, x, y)\n",
    "plt.barh(np.arange(len(subject)) + 0.4, v2, height=0.4, label='v2')\n",
    "for x, y in enumerate(v2):\n",
    "    plt.text(y, x + 0.4, y)\n",
    "plt.legend(bbox_to_anchor=(0.7, 0, 0.5, 1))\n",
    "plt.yticks(np.arange(len(v1)) + 0.4 / 2, subject)\n",
    "plt.grid(axis='x', ls=':',alpha=0.4)\n",
    "plt.show()"
   ]
  },
  {
   "cell_type": "code",
   "execution_count": null,
   "metadata": {},
   "outputs": [],
   "source": [
    "plt.title('水平堆积条形图', fontdict=font_title)\n",
    "plt.barh(subject, v1, height=0.4, label='v1')\n",
    "plt.barh(subject, v2, height=0.4, left=v1, label='v2')\n",
    "plt.legend()\n",
    "plt.show()"
   ]
  },
  {
   "cell_type": "markdown",
   "metadata": {},
   "source": [
    "## 直方图"
   ]
  },
  {
   "cell_type": "code",
   "execution_count": null,
   "metadata": {},
   "outputs": [],
   "source": [
    "plt.title('直方图', fontdict=font_title)\n",
    "x = np.random.normal(size=100)\n",
    "\n",
    "plt.hist(x, bins=30)\n",
    "plt.xlabel(\"box weight(kg)\")\n",
    "plt.ylabel(\"sales count\")\n",
    "plt.show()"
   ]
  },
  {
   "cell_type": "code",
   "execution_count": null,
   "metadata": {},
   "outputs": [],
   "source": [
    "scoresT1 = np.random.randint(0, 100, 100)\n",
    "scoresT2 = np.random.randint(0, 100, 100)\n",
    "x = [scoresT1, scoresT2]\n",
    "\n",
    "labels = [\"班级A\", \"班级B\"]\n",
    "bins = range(0, 100, 10)\n",
    "\n",
    "plt.title(\"堆积直方图\", fontdict=font_title)\n",
    "plt.hist(x, bins=bins, histtype=\"bar\", stacked=True, label=labels)\n",
    "plt.xlabel(\"测试成绩(分)\")\n",
    "plt.ylabel(\"学生人数\")\n",
    "plt.legend(loc=\"upper left\")\n",
    "plt.show()"
   ]
  },
  {
   "cell_type": "code",
   "execution_count": null,
   "metadata": {},
   "outputs": [],
   "source": [
    "x = [(30, 100), (180, 50), (260, 70)]\n",
    "y = [(60, 90), (190, 20), (230, 30), (280, 60)]\n",
    "\n",
    "plt.title(\"阶段条形图\", fontdict=font_title)\n",
    "plt.broken_barh(x, (20, 8), facecolors=\"#1f78b4\")\n",
    "plt.broken_barh(y, (10, 8), facecolors=(\n",
    "    \"#7fc97f\", \"#beaed4\", \"#fdc086\", \"#ffff99\"))\n",
    "plt.xlim(0, 360)\n",
    "plt.ylim(5, 35)\n",
    "plt.xlabel(\"演出时间\")\n",
    "plt.xticks(np.arange(0, 361, 60))\n",
    "plt.yticks([15, 25], [\"歌剧院A\", \"歌剧院B\"])\n",
    "plt.grid(ls=\"-\", lw=1, color=\"gray\")\n",
    "plt.show()"
   ]
  },
  {
   "cell_type": "code",
   "execution_count": null,
   "metadata": {},
   "outputs": [],
   "source": [
    "x = np.linspace(1, 10, 10)\n",
    "y = np.sin(x)\n",
    "\n",
    "plt.title('阶梯图', fontdict=font_title)\n",
    "plt.step(x, y, where=\"pre\")\n",
    "plt.xlim(0, 11)\n",
    "plt.xticks(np.arange(1, 11, 1))\n",
    "plt.ylim(-1.2, 1.2)\n",
    "plt.show()"
   ]
  },
  {
   "cell_type": "code",
   "execution_count": null,
   "metadata": {},
   "outputs": [],
   "source": [
    "x = np.linspace(0.1, 0.6, 10)\n",
    "y = np.exp(x)\n",
    "error = 0.05 + 0.15 * x\n",
    "lower_error = error\n",
    "upper_error = 0. * error\n",
    "error_limit = [lower_error, upper_error]\n",
    "\n",
    "plt.title('误差棒图', fontdict=font_title)\n",
    "plt.errorbar(x, y, yerr=error_limit, fmt=\":o\", ecolor=\"y\",\n",
    "             elinewidth=4, ms=5, mfc=\"c\", mec=\"r\", capthick=1, capsize=2)\n",
    "plt.xlim(0, 0.7)\n",
    "plt.show()"
   ]
  },
  {
   "cell_type": "code",
   "execution_count": null,
   "metadata": {},
   "outputs": [],
   "source": [
    "# 函数errorbar()——用于绘制误差棒图\n",
    "\n",
    "x = np.linspace(0.1, 0.6, 6)\n",
    "y = np.exp(x)\n",
    "\n",
    "plt.errorbar(x, y, fmt=\"bo:\", yerr=0.2, xerr=0.02)\n",
    "plt.xlim(0, 0.7)\n",
    "plt.show()"
   ]
  },
  {
   "cell_type": "markdown",
   "metadata": {},
   "source": [
    "## 箱线图"
   ]
  },
  {
   "cell_type": "code",
   "execution_count": null,
   "metadata": {},
   "outputs": [],
   "source": [
    "# 函数boxplot()——用于绘制箱线图\n",
    "\n",
    "x = np.random.randn(100)\n",
    "\n",
    "plt.boxplot(x)\n",
    "plt.xticks([1], [\"随机数生成器AlphaRM\"])\n",
    "plt.ylabel(\"随机数值\")\n",
    "plt.title(\"有异常值的箱线图\")\n",
    "plt.grid(axis=\"y\", ls=\":\", lw=1, color=\"gray\", alpha=0.4)\n",
    "plt.show()"
   ]
  },
  {
   "cell_type": "code",
   "execution_count": null,
   "metadata": {},
   "outputs": [],
   "source": [
    "# vert：是否需要将箱线图垂直摆放，默认垂直摆放\n",
    "# showfliers：是否显示异常值，默认显示\n",
    "\n",
    "x = np.random.randn(1000)\n",
    "\n",
    "plt.title(\"水平箱线图\", fontdict=font_title)\n",
    "plt.boxplot(x, vert=False, showfliers=False)\n",
    "plt.xlabel(\"随机数值\")\n",
    "plt.yticks([1], [\"随机数生成器AlphaRM\"], rotation=90)\n",
    "plt.grid(axis=\"x\", ls=\":\", lw=1, color=\"gray\", alpha=0.4)\n",
    "plt.show()"
   ]
  },
  {
   "cell_type": "code",
   "execution_count": null,
   "metadata": {},
   "outputs": [],
   "source": [
    "x = np.random.randn(1000)\n",
    "\n",
    "plt.title(\"包含异常值的水平箱线图\", fontdict=font_title)\n",
    "plt.boxplot(x, vert=False)\n",
    "plt.xlabel(\"随机数值\")\n",
    "plt.yticks([1], [\"随机数生成器AlphaRM\"], rotation=90)\n",
    "plt.grid(axis=\"x\", ls=\":\", lw=1, color=\"gray\", alpha=0.4)\n",
    "plt.show()"
   ]
  },
  {
   "cell_type": "code",
   "execution_count": null,
   "metadata": {},
   "outputs": [],
   "source": [
    "testA = np.random.randn(5000)\n",
    "testB = np.random.randn(5000)\n",
    "testList = [testA, testB]\n",
    "labels = [\"随机数生成器AlphaRM\", \"随机数生成器BetaRM\"]\n",
    "colors = [\"#1b9e77\", \"#d95f02\"]\n",
    "whis = 1.6\n",
    "width = 0.35\n",
    "\n",
    "plt.title(\"含异常值的箱线图\", fontdict=font_title)\n",
    "bplot = plt.boxplot(testList, whis=whis, widths=width,\n",
    "                    sym=\"o\", labels=labels, patch_artist=True)\n",
    "for patch, color in zip(bplot[\"boxes\"], colors):\n",
    "    patch.set_facecolor(color)\n",
    "plt.ylabel(\"随机数值\")\n",
    "\n",
    "plt.grid(axis=\"y\", ls=\":\", lw=1, color=\"gray\", alpha=0.4)\n",
    "plt.show()"
   ]
  },
  {
   "cell_type": "code",
   "execution_count": null,
   "metadata": {},
   "outputs": [],
   "source": [
    "plt.title('散点图', fontdict=font_title)\n",
    "X = np.random.randn(100)\n",
    "Y = np.random.randn(100)\n",
    "plt.scatter(X, Y, color='green', marker='D')\n",
    "plt.show()"
   ]
  },
  {
   "cell_type": "markdown",
   "metadata": {},
   "source": [
    "## 饼图"
   ]
  },
  {
   "cell_type": "code",
   "execution_count": null,
   "metadata": {},
   "outputs": [],
   "source": [
    "plt.title('饼图', fontdict=font_title)\n",
    "explode = [0.05] * len(subject)\n",
    "plt.pie(v1, explode, subject, autopct='%.2f%%', pctdistance=0.7,shadow=True)\n",
    "plt.legend(subject, bbox_to_anchor=(-0.7, 0, 0.5, 1))\n",
    "plt.show()"
   ]
  },
  {
   "cell_type": "code",
   "execution_count": null,
   "metadata": {},
   "outputs": [],
   "source": [
    "# 向统计图添加表格\n",
    "\n",
    "# 绘图\n",
    "labels = \"A难度水平\", \"B难度水平\", \"C难度水平\", \"D难度水平\"\n",
    "students = [0.35, 0.15, 0.20, 0.30]\n",
    "explode = [0.05] * 4\n",
    "\n",
    "plt.title(\"选择不同难度测试试卷的学生占比\")\n",
    "plt.pie(students, explode=explode, labels=labels, autopct=\"%1.1f%%\",\n",
    "        startangle=45, shadow=True)\n",
    "\n",
    "# 制表\n",
    "colLabels = [\"语文\", \"数学\", \"英语\", \"物理\"]\n",
    "rowLabels = [\"alice\"]\n",
    "Values = [[112, 130, 98, 88]]\n",
    "colColors = [\"skyblue\", \"pink\", \"c\", \"y\"]\n",
    "\n",
    "plt.table(cellText=Values,\n",
    "          cellLoc=\"center\",\n",
    "          colWidths=[0.3] * 4,\n",
    "          colLabels=colLabels,\n",
    "          colColours=colColors,\n",
    "          rowLabels=rowLabels,\n",
    "          rowLoc=\"center\",\n",
    "          loc=\"bottom\")\n",
    "plt.show()"
   ]
  },
  {
   "cell_type": "code",
   "execution_count": null,
   "metadata": {},
   "outputs": [],
   "source": [
    "plt.title(\"环形图\", fontdict=font_title)\n",
    "explode = [0.01] * len(subject)\n",
    "plt.pie(v1, explode, autopct=\"%.1f%%\", pctdistance=0.8,\n",
    "        wedgeprops=dict(width=0.4, edgecolor='w'))\n",
    "plt.legend(subject, loc=\"center right\",\n",
    "           bbox_to_anchor=(-0.7, 0, 0.5, 1))\n",
    "plt.show()"
   ]
  },
  {
   "cell_type": "code",
   "execution_count": null,
   "metadata": {},
   "outputs": [],
   "source": [
    "'''\n",
    "radius：饼图半径，默认值为1\n",
    "pctdistance：饼块内标签与圆心的距离,默认值为0.6，autopct不为None该参数生效\n",
    "shadow：饼图是否有阴影，默认值为False\n",
    "wedgeprops：饼块属性。字典。默认值为None\n",
    "wedgeprops -> width：饼块宽度\n",
    "wedgeprops -> edgecolor：饼块边缘线颜色\n",
    "'''\n",
    "\n",
    "color = ['pink', 'greenyellow', 'lightcoral', 'yellow', 'cyan']\n",
    "\n",
    "plt.title(\"内嵌环形图\", fontdict=font_title)\n",
    "# 外环\n",
    "plt.pie(v1, radius=1, pctdistance=0.85, autopct=\"%.1f%%\", colors=color,\n",
    "        wedgeprops=dict(width=0.3, edgecolor='w'))\n",
    "\n",
    "# 内环\n",
    "plt.pie(v2, radius=0.7, pctdistance=0.75, autopct=\"%.1f%%\", colors=color,\n",
    "        wedgeprops=dict(width=0.3, edgecolor='w'))\n",
    "\n",
    "plt.legend(subject, fontsize=12, bbox_to_anchor=(-0.7, 0, 0.5, 1))\n",
    "plt.show()"
   ]
  },
  {
   "cell_type": "markdown",
   "metadata": {},
   "source": [
    "## 雷达图"
   ]
  },
  {
   "cell_type": "code",
   "execution_count": null,
   "metadata": {},
   "outputs": [],
   "source": [
    "subject = ['语文', '数学', '英语', '物理', '化学']\n",
    "v1 = [77, 92, 83, 74, 90]\n",
    "v2 = [63, 88, 99, 69, 66]\n",
    "\n",
    "theta = np.linspace(0, 2 * np.pi, len(v1), endpoint=False)\n",
    "theta = np.concatenate((theta, [theta[0]]))\n",
    "subject = np.concatenate((subject, [subject[0]]))\n",
    "v1 = np.concatenate((v1, [v1[0]]))\n",
    "\n",
    "plt.subplot(projection='polar')\n",
    "plt.title('雷达图', fontdict=font_title)\n",
    "plt.polar(theta, v1, 'bo-')\n",
    "plt.fill(theta, v1, 'b', alpha=0.4, label='小明')\n",
    "plt.legend(bbox_to_anchor=(-0.8, 0, 0.5, 1))\n",
    "plt.thetagrids(theta * 180 / np.pi, subject)\n",
    "plt.ylim(0, 110)\n",
    "plt.show()"
   ]
  },
  {
   "cell_type": "code",
   "execution_count": null,
   "metadata": {},
   "outputs": [],
   "source": [
    "subject = ['语文', '数学', '英语', '物理', '化学']\n",
    "v1 = [77, 92, 83, 74, 90]\n",
    "v2 = [63, 88, 99, 69, 66]\n",
    "\n",
    "theta = np.linspace(0, 2 * np.pi, len(v1), endpoint=False)\n",
    "theta = np.concatenate((theta, [theta[0]]))\n",
    "subject = np.concatenate((subject, [subject[0]]))\n",
    "v1 = np.concatenate((v1, [v1[0]]))\n",
    "v2 = np.concatenate((v2, [v2[0]]))\n",
    "\n",
    "plt.subplot(projection='polar')\n",
    "plt.title('多线雷达图', fontdict=font_title)\n",
    "plt.polar(theta, v1)\n",
    "plt.fill(theta, v1, 'pink', alpha=0.5, label='小明')\n",
    "plt.polar(theta, v2)\n",
    "plt.fill(theta, v2, 'c', alpha=0.5, label='小王')\n",
    "plt.thetagrids(theta * 180 / np.pi, subject)\n",
    "plt.legend(bbox_to_anchor=(-0.8, 0, 0.5, 1))\n",
    "plt.ylim(0, 110)\n",
    "plt.show()"
   ]
  },
  {
   "cell_type": "code",
   "execution_count": null,
   "metadata": {},
   "outputs": [],
   "source": [
    "title = ['福建', '辽宁', '河北', '安徽', '广东', '山东', '陕西', '广西']\n",
    "value = [144, 127, 188, 162, 139, 155, 177, 166]\n",
    "value = np.sort(value)\n",
    "\n",
    "theta = np.linspace(0, 2 * np.pi, len(title), endpoint=False)\n",
    "\n",
    "plt.polar()\n",
    "plt.bar(theta, value,\n",
    "        width=0.79,  # 控制宽度\n",
    "        color=np.random.random((len(value), 4)),\n",
    "        bottom=50,  # 控制中间空白区域大小\n",
    "        )\n",
    "# plt.text(1 * np.pi, 0, '南丁格尔', fontsize=13)  # 中间空白区域文字\n",
    "\n",
    "for t, v in zip(theta, value):  # 柱状图数量\n",
    "    plt.text(t, v + 70, v, fontsize=12)\n",
    "\n",
    "plt.title('南丁格尔玫瑰图', fontdict=font_title)\n",
    "# plt.axis(False)  # 关闭极坐标轴\n",
    "plt.tight_layout()  # 自动调节子图大小\n",
    "plt.show()"
   ]
  },
  {
   "cell_type": "code",
   "execution_count": null,
   "metadata": {},
   "outputs": [],
   "source": [
    "subject = ['语文', '数学', '英语', '物理', '化学']\n",
    "v1 = [77, 92, 83, 74, 90]\n",
    "v2 = [63, 88, 99, 69, 66]"
   ]
  },
  {
   "cell_type": "code",
   "execution_count": null,
   "metadata": {},
   "outputs": [],
   "source": [
    "# 函数scatter()——用于绘制气泡图\n",
    "\n",
    "a = np.random.randn(100)\n",
    "b = np.random.randn(100)\n",
    "\n",
    "plt.title('气泡图')\n",
    "plt.scatter(a, b, s=np.power(10 * a + 20 * b, 2),\n",
    "            c=np.random.rand(100),\n",
    "            cmap=plt.cm.RdYlBu,\n",
    "            marker=\"o\")\n",
    "plt.show()"
   ]
  },
  {
   "cell_type": "code",
   "execution_count": null,
   "metadata": {},
   "outputs": [],
   "source": [
    "# 函数stem()——用于绘制棉棒图\n",
    "\n",
    "x = np.linspace(0.5, 2 * np.pi, 20)\n",
    "y = np.random.randn(20)\n",
    "\n",
    "plt.stem(x, y, linefmt=\"-.\", markerfmt=\"o\", basefmt=\"-\")\n",
    "plt.show()"
   ]
  },
  {
   "cell_type": "code",
   "execution_count": null,
   "metadata": {},
   "outputs": [],
   "source": [
    "# 函数polar()——用于绘制极线图\n",
    "\n",
    "barSlices = 12\n",
    "theta = np.linspace(0, 2*np.pi, barSlices, endpoint=False)\n",
    "r = 30*np.random.rand(barSlices)\n",
    "\n",
    "plt.title('极线图')\n",
    "plt.polar(theta, r, color=\"chartreuse\",\n",
    "          linewidth=2, marker=\"*\", mfc=\"b\", ms=10)\n",
    "plt.show()"
   ]
  }
 ],
 "metadata": {
  "interpreter": {
   "hash": "95ab7303ed2746327945aa376054eddca8c4eca362915ff95db932dbe7e7ee41"
  },
  "kernelspec": {
   "display_name": "Python 3",
   "language": "python",
   "name": "python3"
  },
  "language_info": {
   "codemirror_mode": {
    "name": "ipython",
    "version": 3
   },
   "file_extension": ".py",
   "mimetype": "text/x-python",
   "name": "python",
   "nbconvert_exporter": "python",
   "pygments_lexer": "ipython3",
   "version": "3.8.8"
  }
 },
 "nbformat": 4,
 "nbformat_minor": 2
}
